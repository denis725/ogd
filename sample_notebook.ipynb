{

 "metadata": {

  "name": "",

  "signature": "sha256:05ee8c8897275e444cdb44f2680739b3d45eb1a7971fd4612f524a78f93dd142"

 },

 "nbformat": 3,

 "nbformat_minor": 0,

 "worksheets": [

  {

   "cells": [

    {

     "cell_type": "heading",

     "level": 1,

     "metadata": {},

     "source": [

      "Ad CTR prediction"

     ]

    },

    {

     "cell_type": "heading",

     "level": 2,

     "metadata": {},

     "source": [

      "Packages"

     ]

    },

    {

     "cell_type": "code",

     "collapsed": false,

     "input": [

      "# -*- coding: utf-8 -*-"

     ],

     "language": "python",

     "metadata": {},

     "outputs": [],

     "prompt_number": 1

    },

    {

     "cell_type": "code",

     "collapsed": false,

     "input": [

      "from __future__ import division\n",

      "import cPickle\n",

      "from itertools import count\n",

      "from itertools import combinations\n",

      "from time import time"

     ],

     "language": "python",

     "metadata": {},

     "outputs": [],

     "prompt_number": 2

    },

    {

     "cell_type": "code",

     "collapsed": false,

     "input": [

      "import numpy as np\n",

      "import scipy as sp\n",

      "import pandas as pd\n",

      "import matplotlib.pyplot as plt"

     ],

     "language": "python",

     "metadata": {},

     "outputs": [],

     "prompt_number": 3

    },

    {

     "cell_type": "code",

     "collapsed": false,

     "input": [

      "import models\n",

      "reload(models)\n",

      "import utils\n",

      "reload(utils)\n",

      "from models import FTRLprox\n",

      "from models import OGDLR\n",

      "from utils import logloss\n",

      "from utils import PlotLogloss\n",

      "from utils import PlotWeightChange"

     ],

     "language": "python",

     "metadata": {},

     "outputs": [],

     "prompt_number": 4

    },

    {

     "cell_type": "heading",

     "level": 2,

     "metadata": {},

     "source": [

      "Load data"

     ]

    },

    {

     "cell_type": "code",

     "collapsed": false,

     "input": [

      "# kaggle avazu ad click data, unzipped\n",

      "# http://www.kaggle.com/c/avazu-ctr-prediction\n",

      "filename = '../kaggle/adctr/data/train_rev2.csv'"

     ],

     "language": "python",

     "metadata": {},

     "outputs": [],

     "prompt_number": 5

    },

    {

     "cell_type": "code",

     "collapsed": false,

     "input": [

      "df = pd.read_csv(filename, nrows=50000)"

     ],

     "language": "python",

     "metadata": {},

     "outputs": [],

     "prompt_number": 6

    },

    {

     "cell_type": "code",

     "collapsed": false,

     "input": [

      "df.head()"

     ],

     "language": "python",

     "metadata": {},

     "outputs": [

      {

       "html": [

        "<div style=\"max-height:1000px;max-width:1500px;overflow:auto;\">\n",

        "<table border=\"1\" class=\"dataframe\">\n",

        "  <thead>\n",

        "    <tr style=\"text-align: right;\">\n",

        "      <th></th>\n",

        "      <th>id</th>\n",

        "      <th>click</th>\n",

        "      <th>hour</th>\n",

        "      <th>C1</th>\n",

        "      <th>banner_pos</th>\n",

        "      <th>site_id</th>\n",

        "      <th>site_domain</th>\n",

        "      <th>site_category</th>\n",

        "      <th>app_id</th>\n",

        "      <th>app_domain</th>\n",

        "      <th>...</th>\n",

        "      <th>device_conn_type</th>\n",

        "      <th>device_geo_country</th>\n",

        "      <th>C17</th>\n",

        "      <th>C18</th>\n",

        "      <th>C19</th>\n",

        "      <th>C20</th>\n",

        "      <th>C21</th>\n",

        "      <th>C22</th>\n",

        "      <th>C23</th>\n",

        "      <th>C24</th>\n",

        "    </tr>\n",

        "  </thead>\n",

        "  <tbody>\n",

        "    <tr>\n",

        "      <th>0</th>\n",

        "      <td> 10000222510487979663</td>\n",

        "      <td> 0</td>\n",

        "      <td> 14100100</td>\n",

        "      <td> 1005</td>\n",

        "      <td> 0</td>\n",

        "      <td> d41d8cd9</td>\n",

        "      <td> d41d8cd9</td>\n",

        "      <td> d41d8cd9</td>\n",

        "      <td> ee72efa5</td>\n",

        "      <td> 85262c2b</td>\n",

        "      <td>...</td>\n",

        "      <td> 0</td>\n",

        "      <td> fc9fdf08</td>\n",

        "      <td> 11999</td>\n",

        "      <td> 320</td>\n",

        "      <td> 50</td>\n",

        "      <td> 1248</td>\n",

        "      <td> 2</td>\n",

        "      <td>  39</td>\n",

        "      <td>     -1</td>\n",

        "      <td> 13</td>\n",

        "    </tr>\n",

        "    <tr>\n",

        "      <th>1</th>\n",

        "      <td> 10000335031004381249</td>\n",

        "      <td> 0</td>\n",

        "      <td> 14100100</td>\n",

        "      <td> 1005</td>\n",

        "      <td> 0</td>\n",

        "      <td> d41d8cd9</td>\n",

        "      <td> d41d8cd9</td>\n",

        "      <td> d41d8cd9</td>\n",

        "      <td> 7ddd1e29</td>\n",

        "      <td> 85262c2b</td>\n",

        "      <td>...</td>\n",

        "      <td> 0</td>\n",

        "      <td> e22428cc</td>\n",

        "      <td> 12026</td>\n",

        "      <td> 320</td>\n",

        "      <td> 50</td>\n",

        "      <td> 1248</td>\n",

        "      <td> 2</td>\n",

        "      <td>  39</td>\n",

        "      <td>     -1</td>\n",

        "      <td> 13</td>\n",

        "    </tr>\n",

        "    <tr>\n",

        "      <th>2</th>\n",

        "      <td> 10000413097548171036</td>\n",

        "      <td> 0</td>\n",

        "      <td> 14100100</td>\n",

        "      <td> 1010</td>\n",

        "      <td> 1</td>\n",

        "      <td> d41d8cd9</td>\n",

        "      <td> d41d8cd9</td>\n",

        "      <td> d41d8cd9</td>\n",

        "      <td> 7dd0bcc4</td>\n",

        "      <td> d41d8cd9</td>\n",

        "      <td>...</td>\n",

        "      <td> 2</td>\n",

        "      <td> 5343b21a</td>\n",

        "      <td>  5470</td>\n",

        "      <td> 320</td>\n",

        "      <td> 50</td>\n",

        "      <td>  394</td>\n",

        "      <td> 2</td>\n",

        "      <td> 303</td>\n",

        "      <td>     -1</td>\n",

        "      <td> 15</td>\n",

        "    </tr>\n",

        "    <tr>\n",

        "      <th>3</th>\n",

        "      <td> 10000436876114817886</td>\n",

        "      <td> 0</td>\n",

        "      <td> 14100100</td>\n",

        "      <td> 1002</td>\n",

        "      <td> 0</td>\n",

        "      <td> d5589b4a</td>\n",

        "      <td> d41d8cd9</td>\n",

        "      <td> d41d8cd9</td>\n",

        "      <td> d41d8cd9</td>\n",

        "      <td> d41d8cd9</td>\n",

        "      <td>...</td>\n",

        "      <td> 0</td>\n",

        "      <td> 0b3b97fa</td>\n",

        "      <td> 16723</td>\n",

        "      <td> 320</td>\n",

        "      <td> 50</td>\n",

        "      <td> 1876</td>\n",

        "      <td> 2</td>\n",

        "      <td> 291</td>\n",

        "      <td>     -1</td>\n",

        "      <td> 33</td>\n",

        "    </tr>\n",

        "    <tr>\n",

        "      <th>4</th>\n",

        "      <td> 10000488446663934007</td>\n",

        "      <td> 1</td>\n",

        "      <td> 14100100</td>\n",

        "      <td> 1005</td>\n",

        "      <td> 0</td>\n",

        "      <td> d41d8cd9</td>\n",

        "      <td> d41d8cd9</td>\n",

        "      <td> d41d8cd9</td>\n",

        "      <td> aa55fc10</td>\n",

        "      <td> 85262c2b</td>\n",

        "      <td>...</td>\n",

        "      <td> 2</td>\n",

        "      <td> 75778bf8</td>\n",

        "      <td> 17012</td>\n",

        "      <td> 320</td>\n",

        "      <td> 50</td>\n",

        "      <td> 1871</td>\n",

        "      <td> 3</td>\n",

        "      <td>  35</td>\n",

        "      <td> 100053</td>\n",

        "      <td> 23</td>\n",

        "    </tr>\n",

        "  </tbody>\n",

        "</table>\n",

        "<p>5 rows \u00d7 27 columns</p>\n",

        "</div>"

       ],

       "metadata": {},

       "output_type": "pyout",

       "prompt_number": 7,

       "text": [

        "                     id  click      hour    C1  banner_pos   site_id  \\\n",

        "0  10000222510487979663      0  14100100  1005           0  d41d8cd9   \n",

        "1  10000335031004381249      0  14100100  1005           0  d41d8cd9   \n",

        "2  10000413097548171036      0  14100100  1010           1  d41d8cd9   \n",

        "3  10000436876114817886      0  14100100  1002           0  d5589b4a   \n",

        "4  10000488446663934007      1  14100100  1005           0  d41d8cd9   \n",

        "\n",

        "  site_domain site_category    app_id app_domain ...  device_conn_type  \\\n",

        "0    d41d8cd9      d41d8cd9  ee72efa5   85262c2b ...                 0   \n",

        "1    d41d8cd9      d41d8cd9  7ddd1e29   85262c2b ...                 0   \n",

        "2    d41d8cd9      d41d8cd9  7dd0bcc4   d41d8cd9 ...                 2   \n",

        "3    d41d8cd9      d41d8cd9  d41d8cd9   d41d8cd9 ...                 0   \n",

        "4    d41d8cd9      d41d8cd9  aa55fc10   85262c2b ...                 2   \n",

        "\n",

        "  device_geo_country    C17  C18 C19   C20  C21  C22     C23  C24  \n",

        "0           fc9fdf08  11999  320  50  1248    2   39      -1   13  \n",

        "1           e22428cc  12026  320  50  1248    2   39      -1   13  \n",

        "2           5343b21a   5470  320  50   394    2  303      -1   15  \n",

        "3           0b3b97fa  16723  320  50  1876    2  291      -1   33  \n",

        "4           75778bf8  17012  320  50  1871    3   35  100053   23  \n",

        "\n",

        "[5 rows x 27 columns]"

       ]

      }

     ],

     "prompt_number": 7

    },

    {

     "cell_type": "code",

     "collapsed": false,

     "input": [

      "cols = list(df.columns[2:])"

     ],

     "language": "python",

     "metadata": {},

     "outputs": [],

     "prompt_number": 8

    },

    {

     "cell_type": "code",

     "collapsed": false,

     "input": [

      "idx_cols = range(2, len(cols))"

     ],

     "language": "python",

     "metadata": {},

     "outputs": [],

     "prompt_number": 9

    },

    {

     "cell_type": "code",

     "collapsed": false,

     "input": [

      "# drop device_id and device_ip from training data\n",

      "idx_cols.pop(cols.index('device_id'))\n",

      "idx_cols.pop(cols.index('device_ip'))"

     ],

     "language": "python",

     "metadata": {},

     "outputs": [

      {

       "metadata": {},

       "output_type": "pyout",

       "prompt_number": 10,

       "text": [

        "13"

       ]

      }

     ],

     "prompt_number": 10

    },

    {

     "cell_type": "heading",

     "level": 2,

     "metadata": {},

     "source": [

      "Helper functions for streaming data"

     ]

    },

    {

     "cell_type": "code",

     "collapsed": false,

     "input": [

      "def file_streamer(name, t_max, prob_take_sample=1.0):\n",

      "    with open(name, 'rb') as f:\n",

      "        for t, row in enumerate(f):\n",

      "            if t > t_max:\n",

      "                raise StopIteration\n",

      "            if (np.random.rand() > prob_take_sample) or (t == 0):\n",

      "                continue\n",

      "            yield row.split(',')"

     ],

     "language": "python",

     "metadata": {},

     "outputs": [],

     "prompt_number": 15

    },

    {

     "cell_type": "code",

     "collapsed": false,

     "input": [

      "def _interaction_terms(X):\n",

      "    result = X.copy()\n",

      "    for i, j in combinations(range(X.shape[1]), 2):\n",

      "        inter = np.core.defchararray.add(X[:, i], '_')\n",

      "        inter = np.core.defchararray.add(inter, X[:, j])\n",

      "        result = np.hstack((result, inter.reshape(-1, 1)))\n",

      "    return result"

     ],

     "language": "python",

     "metadata": {},

     "outputs": [],

     "prompt_number": 16

    },

    {

     "cell_type": "code",

     "collapsed": false,

     "input": [

      "def batch_streamer(name, batch_size, t_max,\n",

      "                   prob_take_sample, interaction=False):\n",

      "    stream = file_streamer(name, t_max, prob_take_sample)\n",

      "    first_row = next(stream)\n",

      "    n_feats = len(first_row)\n",

      "    X = np.zeros((0, n_feats))\n",

      "    counter = 1\n",

      "    for row in stream:\n",

      "        X = np.vstack((X, row))\n",

      "        counter += 1\n",

      "        if counter >= batch_size:\n",

      "            X = _interaction_terms(X) if interaction else X\n",

      "            yield X\n",

      "            X = np.zeros((0, n_feats), dtype=str)\n",

      "            counter = 0"

     ],

     "language": "python",

     "metadata": {},

     "outputs": [],

     "prompt_number": 17

    },

    {

     "cell_type": "heading",

     "level": 2,

     "metadata": {},

     "source": [

      "Training"

     ]

    },

    {

     "cell_type": "heading",

     "level": 3,

     "metadata": {},

     "source": [

      "Parameters"

     ]

    },

    {

     "cell_type": "code",

     "collapsed": false,

     "input": [

      "# general parameters\n",

      "prob_take_sample = 0.005\n",

      "t_max = 46000000\n",

      "batch_size = 2 ** 10\n",

      "print_every = 10\n",

      "interaction = True"

     ],

     "language": "python",

     "metadata": {},

     "outputs": [],

     "prompt_number": 27

    },

    {

     "cell_type": "code",

     "collapsed": false,

     "input": [

      "# model paramters\n",

      "lambda1 = 0.01\n",

      "lambda2 = 0.01\n",

      "alpha = 0.001\n",

      "beta = 1.\n",

      "D = 2 ** 20"

     ],

     "language": "python",

     "metadata": {},

     "outputs": [],

     "prompt_number": 28

    },

    {

     "cell_type": "heading",

     "level": 3,

     "metadata": {},

     "source": [

      "Online gradient descent logistic regression"

     ]

    },

    {

     "cell_type": "code",

     "collapsed": false,

     "input": [

      "clf = OGDLR(lambda1=lambda1, lambda2=lambda2,\n",

      "            alpha=alpha)"

     ],

     "language": "python",

     "metadata": {},

     "outputs": [],

     "prompt_number": 29

    },

    {

     "cell_type": "code",

     "collapsed": false,

     "input": [

      "tic_total = time()\n",

      "tic = time()\n",

      "valid_score = []\n",

      "\n",

      "for n, batch in enumerate(\n",

      "    batch_streamer(\n",

      "        filename, batch_size, t_max, prob_take_sample, interaction=False\n",

      "        )\n",

      "    ):\n",

      "    X = batch[:, idx_cols]\n",

      "    y = batch[:, 1].astype(int)\n",

      "    clf.fit(X, y)\n",

      "    valid_score.append(logloss(*zip(*clf.valid_history)))\n",

      "    # clear valid_history\n",

      "    clf.valid_history = []      \n",

      "    if n % print_every == 0:\n",

      "        toc = time() - tic\n",

      "        print(\"# samples learned: {}, mean log loss: {:0.5f} ({:0.1f} sec).\".format(\n",

      "            (n + 1) * batch_size, np.mean(valid_score), toc))\n",

      "        tic = time()\n",

      "\n",

      "print(\"Mean logloss: {:0.5f}, total time: {:0.1f} sec\".format(\n",

      "    np.mean(valid_score), time() - tic_total)\n",

      ")"

     ],

     "language": "python",

     "metadata": {},

     "outputs": [

      {

       "output_type": "stream",

       "stream": "stdout",

       "text": [

        "# samples learned: 1024, mean log loss: 0.59834 (1.5 sec).\n",

        "# samples learned: 11264, mean log loss: 0.55031 (11.3 sec)."

       ]

      },

      {

       "output_type": "stream",

       "stream": "stdout",

       "text": [

        "\n",

        "# samples learned: 21504, mean log loss: 0.56313 (15.8 sec)."

       ]

      },

      {

       "output_type": "stream",

       "stream": "stdout",

       "text": [

        "\n",

        "# samples learned: 31744, mean log loss: 0.54513 (9.3 sec)."

       ]

      },

      {

       "output_type": "stream",

       "stream": "stdout",

       "text": [

        "\n",

        "# samples learned: 41984, mean log loss: 0.55150 (9.7 sec)."

       ]

      },

      {

       "output_type": "stream",

       "stream": "stdout",

       "text": [

        "\n",

        "# samples learned: 52224, mean log loss: 0.53806 (9.7 sec)."

       ]

      },

      {

       "output_type": "stream",

       "stream": "stdout",

       "text": [

        "\n",

        "# samples learned: 62464, mean log loss: 0.53609 (9.7 sec)."

       ]

      },

      {

       "output_type": "stream",

       "stream": "stdout",

       "text": [

        "\n",

        "# samples learned: 72704, mean log loss: 0.53059 (9.5 sec)."

       ]

      },

      {

       "output_type": "stream",

       "stream": "stdout",

       "text": [

        "\n",

        "# samples learned: 82944, mean log loss: 0.52394 (32.5 sec)."

       ]

      },

      {

       "output_type": "stream",

       "stream": "stdout",

       "text": [

        "\n",

        "# samples learned: 93184, mean log loss: 0.51922 (43.3 sec)."

       ]

      },

      {

       "output_type": "stream",

       "stream": "stdout",

       "text": [

        "\n",

        "# samples learned: 103424, mean log loss: 0.51240 (91.6 sec)."

       ]

      },

      {

       "output_type": "stream",

       "stream": "stdout",

       "text": [

        "\n",

        "# samples learned: 113664, mean log loss: 0.51030 (64.8 sec)."

       ]

      },

      {

       "output_type": "stream",

       "stream": "stdout",

       "text": [

        "\n",

        "# samples learned: 123904, mean log loss: 0.50151 (75.6 sec)."

       ]

      },

      {

       "output_type": "stream",

       "stream": "stdout",

       "text": [

        "\n",

        "# samples learned: 134144, mean log loss: 0.50154 (57.2 sec)."

       ]

      },

      {

       "output_type": "stream",

       "stream": "stdout",

       "text": [

        "\n",

        "# samples learned: 144384, mean log loss: 0.49746 (11.6 sec)."

       ]

      },

      {

       "output_type": "stream",

       "stream": "stdout",

       "text": [

        "\n",

        "# samples learned: 154624, mean log loss: 0.49517 (22.1 sec)."

       ]

      },

      {

       "output_type": "stream",

       "stream": "stdout",

       "text": [

        "\n",

        "# samples learned: 164864, mean log loss: 0.49603 (52.5 sec)."

       ]

      },

      {

       "output_type": "stream",

       "stream": "stdout",

       "text": [

        "\n",

        "# samples learned: 175104, mean log loss: 0.49273 (9.9 sec)."

       ]

      },

      {

       "output_type": "stream",

       "stream": "stdout",

       "text": [

        "\n",

        "# samples learned: 185344, mean log loss: 0.49628 (9.7 sec)."

       ]

      },

      {

       "output_type": "stream",

       "stream": "stdout",

       "text": [

        "\n",

        "# samples learned: 195584, mean log loss: 0.49415 (10.7 sec)."

       ]

      },

      {

       "output_type": "stream",

       "stream": "stdout",

       "text": [

        "\n",

        "# samples learned: 205824, mean log loss: 0.49478 (10.2 sec)."

       ]

      },

      {

       "output_type": "stream",

       "stream": "stdout",

       "text": [

        "\n",

        "# samples learned: 216064, mean log loss: 0.49332 (9.8 sec)."

       ]

      },

      {

       "output_type": "stream",

       "stream": "stdout",

       "text": [

        "\n",

        "# samples learned: 226304, mean log loss: 0.49274 (9.8 sec)."

       ]

      },

      {

       "output_type": "stream",

       "stream": "stdout",

       "text": [

        "\n",

        "Mean logloss: 0.49297, total time: 592.2 sec"

       ]

      },

      {

       "output_type": "stream",

       "stream": "stdout",

       "text": [

        "\n"

       ]

      }

     ],

     "prompt_number": 30

    },

    {

     "cell_type": "heading",

     "level": 3,

     "metadata": {},

     "source": [

      "FTRL proximal"

     ]

    },

    {

     "cell_type": "code",

     "collapsed": false,

     "input": [

      "clf = FTRLprox(lambda1=lambda1, lambda2=lambda2,\n",

      "               alpha=alpha, beta=beta)"

     ],

     "language": "python",

     "metadata": {},

     "outputs": [],

     "prompt_number": 31

    },

    {

     "cell_type": "code",

     "collapsed": false,

     "input": [

      "tic_total = time()\n",

      "tic = time()\n",

      "valid_score = []\n",

      "\n",

      "for n, batch in enumerate(\n",

      "    batch_streamer(\n",

      "        filename, batch_size, t_max, prob_take_sample, interaction=False\n",

      "        )\n",

      "    ):\n",

      "    X = batch[:, idx_cols]\n",

      "    y = batch[:, 1].astype(int)\n",

      "    clf.fit(X, y)\n",

      "    valid_score.append(logloss(*zip(*clf.valid_history)))\n",

      "    # clear valid_history\n",

      "    clf.valid_history = []      \n",

      "    if n % print_every == 0:\n",

      "        toc = time() - tic\n",

      "        print(\"# samples learned: {}, mean log loss: {:0.5f} ({:0.1f} sec).\".format(\n",

      "            (n + 1) * batch_size, np.mean(valid_score), toc))\n",

      "        tic = time()\n",

      "\n",

      "print(\"Mean logloss: {:0.5f}, total time: {:0.1f} sec\".format(\n",

      "    np.mean(valid_score), time() - tic_total)\n",

      ")"

     ],

     "language": "python",

     "metadata": {},

     "outputs": [

      {

       "output_type": "stream",

       "stream": "stdout",

       "text": [

        "# samples learned: 1024, mean log loss: 0.59002 (1.4 sec).\n",

        "# samples learned: 11264, mean log loss: 0.52546 (42.7 sec)."

       ]

      },

      {

       "output_type": "stream",

       "stream": "stdout",

       "text": [

        "\n",

        "# samples learned: 21504, mean log loss: 0.54264 (66.5 sec)."

       ]

      },

      {

       "output_type": "stream",

       "stream": "stdout",

       "text": [

        "\n",

        "# samples learned: 31744, mean log loss: 0.51874 (56.7 sec)."

       ]

      },

      {

       "output_type": "stream",

       "stream": "stdout",

       "text": [

        "\n",

        "# samples learned: 41984, mean log loss: 0.52644 (71.1 sec)."

       ]

      },

      {

       "output_type": "stream",

       "stream": "stdout",

       "text": [

        "\n",

        "# samples learned: 52224, mean log loss: 0.50696 (66.9 sec)."

       ]

      },

      {

       "output_type": "stream",

       "stream": "stdout",

       "text": [

        "\n",

        "# samples learned: 62464, mean log loss: 0.50447 (54.3 sec)."

       ]

      },

      {

       "output_type": "stream",

       "stream": "stdout",

       "text": [

        "\n",

        "# samples learned: 72704, mean log loss: 0.49488 (127.5 sec)."

       ]

      },

      {

       "output_type": "stream",

       "stream": "stdout",

       "text": [

        "\n",

        "# samples learned: 82944, mean log loss: 0.48641 (175.6 sec)."

       ]

      },

      {

       "output_type": "stream",

       "stream": "stdout",

       "text": [

        "\n",

        "# samples learned: 93184, mean log loss: 0.47981 (13.1 sec)."

       ]

      },

      {

       "output_type": "stream",

       "stream": "stdout",

       "text": [

        "\n",

        "# samples learned: 103424, mean log loss: 0.47205 (11.0 sec)."

       ]

      },

      {

       "output_type": "stream",

       "stream": "stdout",

       "text": [

        "\n",

        "# samples learned: 113664, mean log loss: 0.47077 (10.8 sec)."

       ]

      },

      {

       "output_type": "stream",

       "stream": "stdout",

       "text": [

        "\n",

        "# samples learned: 123904, mean log loss: 0.45988 (10.7 sec)."

       ]

      },

      {

       "output_type": "stream",

       "stream": "stdout",

       "text": [

        "\n",

        "# samples learned: 134144, mean log loss: 0.46113 (11.0 sec)."

       ]

      },

      {

       "output_type": "stream",

       "stream": "stdout",

       "text": [

        "\n",

        "# samples learned: 144384, mean log loss: 0.45511 (11.2 sec)."

       ]

      },

      {

       "output_type": "stream",

       "stream": "stdout",

       "text": [

        "\n",

        "# samples learned: 154624, mean log loss: 0.45341 (44.2 sec)."

       ]

      },

      {

       "output_type": "stream",

       "stream": "stdout",

       "text": [

        "\n",

        "# samples learned: 164864, mean log loss: 0.45595 (47.6 sec)."

       ]

      },

      {

       "output_type": "stream",

       "stream": "stdout",

       "text": [

        "\n",

        "# samples learned: 175104, mean log loss: 0.45187 (11.4 sec)."

       ]

      },

      {

       "output_type": "stream",

       "stream": "stdout",

       "text": [

        "\n",

        "# samples learned: 185344, mean log loss: 0.45913 (11.3 sec)."

       ]

      },

      {

       "output_type": "stream",

       "stream": "stdout",

       "text": [

        "\n",

        "# samples learned: 195584, mean log loss: 0.45574 (11.8 sec)."

       ]

      },

      {

       "output_type": "stream",

       "stream": "stdout",

       "text": [

        "\n",

        "# samples learned: 205824, mean log loss: 0.45727 (12.1 sec)."

       ]

      },

      {

       "output_type": "stream",

       "stream": "stdout",

       "text": [

        "\n",

        "# samples learned: 216064, mean log loss: 0.45374 (11.2 sec)."

       ]

      },

      {

       "output_type": "stream",

       "stream": "stdout",

       "text": [

        "\n",

        "# samples learned: 226304, mean log loss: 0.45325 (12.0 sec)."

       ]

      },

      {

       "output_type": "stream",

       "stream": "stdout",

       "text": [

        "\n",

        "Mean logloss: 0.45373, total time: 896.6 sec"

       ]

      },

      {

       "output_type": "stream",

       "stream": "stdout",

       "text": [

        "\n"

       ]

      }

     ],

     "prompt_number": 32

    },

    {

     "cell_type": "code",

     "collapsed": false,

     "input": [],

     "language": "python",

     "metadata": {},

     "outputs": []

    }

   ],

   "metadata": {}

  }

 ]

}
